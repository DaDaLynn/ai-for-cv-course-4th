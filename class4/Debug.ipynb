{
 "cells": [
  {
   "cell_type": "code",
   "execution_count": 1,
   "metadata": {},
   "outputs": [],
   "source": [
    "import pandas as pd"
   ]
  },
  {
   "cell_type": "code",
   "execution_count": 2,
   "metadata": {},
   "outputs": [],
   "source": [
    "Data_raw = [['Good', 'Low', 'Older', 'Steady', 'N'],\n",
    "            ['Good', 'Low', 'Older', 'Unstable', 'N'],\n",
    "            ['Great', 'Low', 'Older', 'Steady', 'Y'],\n",
    "            ['Ah', 'Good', 'Older', 'Steady', 'Y'],\n",
    "            ['Ah', 'Great', 'Younger', 'Steady', 'Y'],\n",
    "            ['Ah', 'Great', 'Younger', 'Unstable', 'N'],\n",
    "            ['Ah', 'Great', 'Younger', 'Unstable', 'N'],\n",
    "            ['Great', 'Great', 'Younger', 'Unstable', 'Y'],\n",
    "            ['Good', 'Good', 'Older', 'Steady', 'N'],\n",
    "            ['Good', 'Great', 'Younger', 'Steady', 'Y'],\n",
    "            ['Ah', 'Good', 'Younger', 'Steady', 'Y'],\n",
    "            ['Good', 'Good', 'Younger', 'Unstable', 'Y'],\n",
    "            ['Great', 'Good', 'Older', 'Steady', 'Y'],\n",
    "            ['Great', 'Low', 'Younger', 'Steady', 'Y'],\n",
    "            ['Ah', 'Good', 'Older', 'Unstable', 'N']]\n",
    "columns = ['Appearance', 'Income', 'Age', 'Profession', 'Welcome']\n",
    "Data = pd.DataFrame(Data_raw, columns = columns)"
   ]
  },
  {
   "cell_type": "code",
   "execution_count": 13,
   "metadata": {},
   "outputs": [],
   "source": [
    "yes_count = len(Data[Data[\"Welcome\"] == \"Y\"])"
   ]
  },
  {
   "cell_type": "code",
   "execution_count": 14,
   "metadata": {},
   "outputs": [
    {
     "data": {
      "text/html": [
       "<div>\n",
       "<style scoped>\n",
       "    .dataframe tbody tr th:only-of-type {\n",
       "        vertical-align: middle;\n",
       "    }\n",
       "\n",
       "    .dataframe tbody tr th {\n",
       "        vertical-align: top;\n",
       "    }\n",
       "\n",
       "    .dataframe thead th {\n",
       "        text-align: right;\n",
       "    }\n",
       "</style>\n",
       "<table border=\"1\" class=\"dataframe\">\n",
       "  <thead>\n",
       "    <tr style=\"text-align: right;\">\n",
       "      <th></th>\n",
       "      <th>Appearance</th>\n",
       "      <th>Income</th>\n",
       "      <th>Age</th>\n",
       "      <th>Profession</th>\n",
       "      <th>Welcome</th>\n",
       "    </tr>\n",
       "  </thead>\n",
       "  <tbody>\n",
       "    <tr>\n",
       "      <th>2</th>\n",
       "      <td>Great</td>\n",
       "      <td>Low</td>\n",
       "      <td>Older</td>\n",
       "      <td>Steady</td>\n",
       "      <td>Y</td>\n",
       "    </tr>\n",
       "    <tr>\n",
       "      <th>7</th>\n",
       "      <td>Great</td>\n",
       "      <td>Great</td>\n",
       "      <td>Younger</td>\n",
       "      <td>Unstable</td>\n",
       "      <td>Y</td>\n",
       "    </tr>\n",
       "    <tr>\n",
       "      <th>12</th>\n",
       "      <td>Great</td>\n",
       "      <td>Good</td>\n",
       "      <td>Older</td>\n",
       "      <td>Steady</td>\n",
       "      <td>Y</td>\n",
       "    </tr>\n",
       "    <tr>\n",
       "      <th>13</th>\n",
       "      <td>Great</td>\n",
       "      <td>Low</td>\n",
       "      <td>Younger</td>\n",
       "      <td>Steady</td>\n",
       "      <td>Y</td>\n",
       "    </tr>\n",
       "  </tbody>\n",
       "</table>\n",
       "</div>"
      ],
      "text/plain": [
       "   Appearance Income      Age Profession Welcome\n",
       "2       Great    Low    Older     Steady       Y\n",
       "7       Great  Great  Younger   Unstable       Y\n",
       "12      Great   Good    Older     Steady       Y\n",
       "13      Great    Low  Younger     Steady       Y"
      ]
     },
     "execution_count": 14,
     "metadata": {},
     "output_type": "execute_result"
    }
   ],
   "source": [
    "Data[Data[\"Appearance\"] == \"Great\"]\n"
   ]
  },
  {
   "cell_type": "code",
   "execution_count": null,
   "metadata": {},
   "outputs": [],
   "source": []
  }
 ],
 "metadata": {
  "kernelspec": {
   "display_name": "Python 3",
   "language": "python",
   "name": "python3"
  },
  "language_info": {
   "codemirror_mode": {
    "name": "ipython",
    "version": 3
   },
   "file_extension": ".py",
   "mimetype": "text/x-python",
   "name": "python",
   "nbconvert_exporter": "python",
   "pygments_lexer": "ipython3",
   "version": "3.7.0"
  }
 },
 "nbformat": 4,
 "nbformat_minor": 2
}
