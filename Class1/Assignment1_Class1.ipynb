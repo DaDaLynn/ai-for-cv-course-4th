{
 "cells": [
  {
   "cell_type": "code",
   "execution_count": 1,
   "metadata": {},
   "outputs": [],
   "source": [
    "#导入库\n",
    "import cv2"
   ]
  },
  {
   "cell_type": "code",
   "execution_count": 2,
   "metadata": {},
   "outputs": [],
   "source": [
    "#图像读取与显示\n",
    "img = cv2.imread(r'.\\Eddie.jpg')\n",
    "cv2.imshow('Eddie', img)\n",
    "key = cv2.waitKey()\n",
    "if key == 27:\n",
    "    cv2.destroyAllWindows()"
   ]
  },
  {
   "cell_type": "code",
   "execution_count": 3,
   "metadata": {},
   "outputs": [],
   "source": [
    "#图像crop 通道分离 通道交换\n",
    "shape = img.shape\n",
    "channels = len(img.shape)\n",
    "img_crop = img[0:int(shape[0]*0.8), 0:int(shape[1]*0.8)]\n",
    "B,G,R = cv2.split(img_crop)\n",
    "img_channel_switch = cv2.merge((R,G,B))\n",
    "cv2.imshow('Crop', img_crop)\n",
    "cv2.imshow('B', B)\n",
    "cv2.imshow('G', G)\n",
    "cv2.imshow('R',R)\n",
    "#原图R通道值较大，将其与B通道互换后，秒变阿凡达\n",
    "cv2.imshow('switch', img_channel_switch)\n",
    "key = cv2.waitKey()\n",
    "if key == 27:\n",
    "    cv2.destroyAllWindows()"
   ]
  },
  {
   "cell_type": "code",
   "execution_count": 4,
   "metadata": {},
   "outputs": [
    {
     "data": {
      "text/plain": [
       "True"
      ]
     },
     "execution_count": 4,
     "metadata": {},
     "output_type": "execute_result"
    }
   ],
   "source": [
    "#颜色变换(各通道分别提亮或变暗)\n",
    "import random\n",
    "def modify_sigle_channel(input, value):\n",
    "    if value == 0:\n",
    "        pass\n",
    "    elif value > 0:\n",
    "        thre = 255 - value\n",
    "        input[input >= thre] = 255\n",
    "        input[input < thre] = input[input < thre] + value\n",
    "    else:\n",
    "        thre = 0 - value\n",
    "        input[input < thre] = 0\n",
    "        input[input > thre] = input[input > thre] + value\n",
    "        \n",
    "rand_val_B = random.randint(-50, 50)\n",
    "rand_val_G = random.randint(-50, 50)\n",
    "rand_val_R = random.randint(-50, 50)\n",
    "modify_sigle_channel(B, rand_val_B)\n",
    "modify_sigle_channel(G, rand_val_B)\n",
    "modify_sigle_channel(R, rand_val_B)\n",
    "img_color_modify = cv2.merge((B,G,R))\n",
    "cv2.imshow('B', B)\n",
    "cv2.imshow('G', G)\n",
    "cv2.imshow('R',R)\n",
    "cv2.imshow('modify', img_color_modify)\n",
    "key = cv2.waitKey()\n",
    "if key == 27:\n",
    "    cv2.destroyAllWindows()\n",
    "cv2.imwrite(\"img.jpg\", img_crop)   \n",
    "cv2.imwrite(\"img_modify.jpg\", img_color_modify)   "
   ]
  },
  {
   "cell_type": "code",
   "execution_count": 6,
   "metadata": {},
   "outputs": [],
   "source": [
    "#图像旋转 \n",
    "def img_rotate(img, angle, scale):\n",
    "    trans_kernel = cv2.getRotationMatrix2D((shape[1] / 2, shape[0] / 2), angle, scale)\n",
    "    img_trans = cv2.warpAffine(img, trans_kernel, (shape[1], shape[0]))\n",
    "    return img_trans\n",
    "img_trans = img_rotate(img, 30, 0.75)\n",
    "cv2.imshow('img_trans', img_trans)\n",
    "key = cv2.waitKey()\n",
    "if key == 27:\n",
    "    cv2.destroyAllWindows()"
   ]
  },
  {
   "cell_type": "code",
   "execution_count": 17,
   "metadata": {},
   "outputs": [],
   "source": [
    "#仿射变换\n",
    "import numpy as np\n",
    "def img_affine_trans(img, pt1, pt2):\n",
    "    height, width, ch = img.shape\n",
    "    M = cv2.getAffineTransform(pt1, pt2)\n",
    "    img_trans = cv2.warpAffine(img, M, (shape[1], shape[0]))\n",
    "    return img_trans\n",
    "\n",
    "pt1 = np.float32([[0, 0], [0, height - 1], [width - 1, 0]])\n",
    "pt2 = np.float32([[height * 0.05, width * 0.05], [width * 0.1, height * 0.5], [width  * 0.5, height * 0.1]])\n",
    "img_trans = img_affine_trans(img, pt1, pt2)\n",
    "cv2.imshow('img_trans', img_trans)\n",
    "key = cv2.waitKey()\n",
    "if key == 27:\n",
    "    cv2.destroyAllWindows()"
   ]
  },
  {
   "cell_type": "code",
   "execution_count": 18,
   "metadata": {},
   "outputs": [],
   "source": [
    " #透视图变换\n",
    "def random_warp(img, row, col):\n",
    "    height, width, channels = img.shape\n",
    "\n",
    "    # warp:\n",
    "    random_margin = 60\n",
    "    x1 = random.randint(-random_margin, random_margin)\n",
    "    y1 = random.randint(-random_margin, random_margin)\n",
    "    x2 = random.randint(width - random_margin - 1, width - 1)\n",
    "    y2 = random.randint(-random_margin, random_margin)\n",
    "    x3 = random.randint(width - random_margin - 1, width - 1)\n",
    "    y3 = random.randint(height - random_margin - 1, height - 1)\n",
    "    x4 = random.randint(-random_margin, random_margin)\n",
    "    y4 = random.randint(height - random_margin - 1, height - 1)\n",
    "\n",
    "    dx1 = random.randint(-random_margin, random_margin)\n",
    "    dy1 = random.randint(-random_margin, random_margin)\n",
    "    dx2 = random.randint(width - random_margin - 1, width - 1)\n",
    "    dy2 = random.randint(-random_margin, random_margin)\n",
    "    dx3 = random.randint(width - random_margin - 1, width - 1)\n",
    "    dy3 = random.randint(height - random_margin - 1, height - 1)\n",
    "    dx4 = random.randint(-random_margin, random_margin)\n",
    "    dy4 = random.randint(height - random_margin - 1, height - 1)\n",
    "\n",
    "    pts1 = np.float32([[x1, y1], [x2, y2], [x3, y3], [x4, y4]])\n",
    "    pts2 = np.float32([[dx1, dy1], [dx2, dy2], [dx3, dy3], [dx4, dy4]])\n",
    "    M_warp = cv2.getPerspectiveTransform(pts1, pts2)\n",
    "    img_warp = cv2.warpPerspective(img, M_warp, (width, height))\n",
    "    return M_warp, img_warp\n",
    "\n",
    "\n",
    "M_warp, img_warp = random_warp(img, img.shape[0], img.shape[1])\n",
    "cv2.imshow('Eddie_warp', img_warp)\n",
    "key = cv2.waitKey(0)\n",
    "if key == 27:\n",
    "    cv2.destroyAllWindows()"
   ]
  },
  {
   "cell_type": "code",
   "execution_count": 39,
   "metadata": {},
   "outputs": [
    {
     "data": {
      "image/png": "[encoded data removed]",
      "text/plain": [
       "<Figure size 432x288 with 1 Axes>"
      ]
     },
     "metadata": {
      "needs_background": "light"
     },
     "output_type": "display_data"
    }
   ],
   "source": [
    "#直方图操作\n",
    "from matplotlib import pyplot as plt\n",
    "img_yuv = cv2.cvtColor(img, cv2.COLOR_RGB2YUV)\n",
    "img_YUV[:, :, 0] = cv2.equalizeHist(img_yuv[:, :, 0])\n",
    "img_back = cv2.cvtColor(img_YUV, cv2.COLOR_YUV2RGB)\n",
    "plt.hist(img.flatten(), 256, [0, 256], color='r')\n",
    "plt.hist(img_back.flatten(), 256, [0, 256], color='r')\n",
    "cv2.imshow('Eddie', img_back)\n",
    "key = cv2.waitKey(0)\n",
    "if key == 27:\n",
    "    cv2.destroyAllWindows()"
   ]
  },
  {
   "cell_type": "code",
   "execution_count": 33,
   "metadata": {},
   "outputs": [],
   "source": [
    "#Gamma变换\n",
    "def gamma_adjust(img, gamma=1.0):\n",
    "    inv_gamma = 1 / gamma\n",
    "    table = []\n",
    "    for i in range(256):\n",
    "        table.append((i / 255) ** inv_gamma * 255)\n",
    "    table = np.array(table).astype(\"uint8\")\n",
    "    return cv2.LUT(img, table)\n",
    "    \n",
    "img_darker = gamma_adjust(img, 0.5)\n",
    "cv2.imshow('img_brighter', img_darker)\n",
    "key = cv2.waitKey(0)\n",
    "if key == 27:\n",
    "    cv2.destroyAllWindows()\n",
    "    "
   ]
  }
 ],
 "metadata": {
  "kernelspec": {
   "display_name": "Python 3",
   "language": "python",
   "name": "python3"
  },
  "language_info": {
   "codemirror_mode": {
    "name": "ipython",
    "version": 3
   },
   "file_extension": ".py",
   "mimetype": "text/x-python",
   "name": "python",
   "nbconvert_exporter": "python",
   "pygments_lexer": "ipython3",
   "version": "3.7.0"
  }
 },
 "nbformat": 4,
 "nbformat_minor": 2
}
