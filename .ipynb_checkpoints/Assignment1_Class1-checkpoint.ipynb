{
 "cells": [
  {
   "cell_type": "code",
   "execution_count": 1,
   "metadata": {},
   "outputs": [],
   "source": [
    "import cv2"
   ]
  },
  {
   "cell_type": "code",
   "execution_count": 5,
   "metadata": {},
   "outputs": [
    {
     "name": "stdout",
     "output_type": "stream",
     "text": [
      "(768, 1024, 3)\n"
     ]
    }
   ],
   "source": [
    "#图像读取与显示\n",
    "img = cv2.imread(r'C:\\Users\\Public\\Pictures\\Sample Pictures\\Chrysanthemum.jpg')\n",
    "cv2.imshow('Penguins', img)\n",
    "print(img.shape)\n",
    "key = cv2.waitKey()\n",
    "if key == 27:\n",
    "    cv2.destroyAllWindows()"
   ]
  },
  {
   "cell_type": "code",
   "execution_count": 7,
   "metadata": {},
   "outputs": [],
   "source": [
    "#图像crop及通道分离\n",
    "img_crop = img[200:600, 200:600]\n",
    "B,G,R = cv2.split(img_crop)\n",
    "cv2.imshow('Crop', img_crop)\n",
    "cv2.imshow('B', B)\n",
    "cv2.imshow('G', G)\n",
    "cv2.imshow('R',R)\n",
    "key = cv2.waitKey()\n",
    "if key == 27:\n",
    "    cv2.destroyAllWindows()"
   ]
  },
  {
   "cell_type": "code",
   "execution_count": 8,
   "metadata": {},
   "outputs": [
    {
     "data": {
      "text/plain": [
       "array([[229, 235, 235, ..., 253, 255, 251],\n",
       "       [233, 238, 240, ..., 255, 254, 250],\n",
       "       [230, 241, 232, ..., 254, 255, 251],\n",
       "       ...,\n",
       "       [152, 149, 148, ..., 182, 183, 184],\n",
       "       [150, 146, 146, ..., 186, 188, 188],\n",
       "       [150, 146, 148, ..., 186, 190, 190]], dtype=uint8)"
      ]
     },
     "execution_count": 8,
     "metadata": {},
     "output_type": "execute_result"
    }
   ],
   "source": [
    "#颜色变换"
   ]
  },
  {
   "cell_type": "code",
   "execution_count": 14,
   "metadata": {},
   "outputs": [],
   "source": [
    "#图像旋转 仿射变换 透视图变换\n"
   ]
  },
  {
   "cell_type": "code",
   "execution_count": 29,
   "metadata": {},
   "outputs": [],
   "source": [
    "#直方图操作\n",
    "img_gray = cv2.cvtColor(img, cv2.COLOR_RGB2GRAY)\n"
   ]
  },
  {
   "cell_type": "code",
   "execution_count": 27,
   "metadata": {},
   "outputs": [
    {
     "data": {
      "text/plain": [
       "'4.1.0'"
      ]
     },
     "execution_count": 27,
     "metadata": {},
     "output_type": "execute_result"
    }
   ],
   "source": [
    "#Gamma变换\n"
   ]
  },
  {
   "cell_type": "code",
   "execution_count": null,
   "metadata": {},
   "outputs": [],
   "source": []
  }
 ],
 "metadata": {
  "kernelspec": {
   "display_name": "Python 3",
   "language": "python",
   "name": "python3"
  },
  "language_info": {
   "codemirror_mode": {
    "name": "ipython",
    "version": 3
   },
   "file_extension": ".py",
   "mimetype": "text/x-python",
   "name": "python",
   "nbconvert_exporter": "python",
   "pygments_lexer": "ipython3",
   "version": "3.7.0"
  }
 },
 "nbformat": 4,
 "nbformat_minor": 2
}
